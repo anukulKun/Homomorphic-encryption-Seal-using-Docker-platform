{
 "cells": [
  {
   "cell_type": "code",
   "execution_count": 25,
   "metadata": {},
   "outputs": [
    {
     "name": "stdout",
     "output_type": "stream",
     "text": [
      "5386\n",
      "4286\n",
      "1100\n"
     ]
    },
    {
     "data": {
      "text/plain": [
       "array([1, 2, 0, 0, 1, 0, 1, 2, 0])"
      ]
     },
     "execution_count": 25,
     "metadata": {},
     "output_type": "execute_result"
    }
   ],
   "source": [
    "import pandas as pd\n",
    "import numpy as np\n",
    "import matplotlib.pyplot as plt\n",
    "\n",
    "df = pd.read_csv('out.csv')\n",
    "df_y = df.truncate()\n",
    "df_ = df.drop(columns=['Day1_Hs', 'Day1_D','Day2_Hs', 'Day2_D','Day3_Hs', 'Day3_D'])\n",
    "df_train = df_.truncate()\n",
    "# df_train\n",
    "# df_train.head()\n",
    "X_train = df_train.to_numpy()[:-1100]\n",
    "X_test = df_train.to_numpy()[-1100:]\n",
    "print(len(df_train.to_numpy()))\n",
    "print(len(X_train))\n",
    "print(len(X_test))\n",
    "\n",
    "X_test[0]"
   ]
  },
  {
   "cell_type": "code",
   "execution_count": 26,
   "metadata": {},
   "outputs": [
    {
     "name": "stdout",
     "output_type": "stream",
     "text": [
      "5386\n",
      "4286\n",
      "1100\n"
     ]
    },
    {
     "data": {
      "text/plain": [
       "array([5.33333333, 8.        , 6.        , ..., 2.        , 1.33333333,\n",
       "       1.33333333])"
      ]
     },
     "execution_count": 26,
     "metadata": {},
     "output_type": "execute_result"
    }
   ],
   "source": [
    "\n",
    "\n",
    "# Data-Labeling Procedure\n",
    "\n",
    "def sleep_score(a):\n",
    "    if a < 7: return -2\n",
    "    if a ==7: return -1\n",
    "    if a == 8: return 1\n",
    "    if a == 9: return 1\n",
    "    if a == 10: return 1\n",
    "    if a == 11: return -1\n",
    "    if a > 11: return -2\n",
    "\n",
    "def delay_score(a):\n",
    "    if a > 2: return -2\n",
    "    if a == 2: return -1\n",
    "    if a == 1 or a == 0 or a == -1 : return 0\n",
    "    if a == -2: return -1\n",
    "    if a < -2: return -2\n",
    "    \n",
    "sc_weight = 2\n",
    "ev_weight = 1\n",
    "sl_weight = 3\n",
    "social_r = -0.05\n",
    "edu_r = 0.22\n",
    "game_r = -0.2\n",
    "max_score = 3\n",
    "min_score =  -12\n",
    "\n",
    "df_label = pd.DataFrame(columns = [\"Day1_Hs\",\"Day1_D\",\"Day2_Hs\",\"Day2_D\",\"Day3_Hs\",\"Day3_D\", \"Score\"]\n",
    "                     ,index=[0])\n",
    "\n",
    "for idx, row in df_y.iterrows():\n",
    "#     print(row['Sc_Game'])\n",
    "#     print(period_score(row['Sc_Game']))\n",
    "    score = []\n",
    "\n",
    "    score.append(sleep_score(row['Day1_Hs']))\n",
    "    score.append(delay_score(row['Day1_D']))\n",
    "    score.append(sleep_score(row['Day2_Hs']))\n",
    "    score.append(delay_score(row['Day2_D']))\n",
    "    score.append(sleep_score(row['Day3_Hs']))\n",
    "    score.append(delay_score(row['Day3_D']))\n",
    "    wellbeing_score = ((sum(score) - min_score)*10)/(max_score - min_score)\n",
    "    score.append(wellbeing_score)\n",
    "    df_label.loc[df_label.index.max()+1] = score\n",
    "\n",
    "df_label = df_label.drop([0])\n",
    "# Y = df_label['Score'].to_numpy()\n",
    "\n",
    "Y_train = df_label['Score'].to_numpy()[:-1100]\n",
    "Y_test = df_label['Score'].to_numpy()[-1100:]\n",
    "print(len(df_label['Score'].to_numpy()))\n",
    "print(len(Y_train))\n",
    "print(len(Y_test))\n",
    "Y_test"
   ]
  },
  {
   "cell_type": "code",
   "execution_count": 27,
   "metadata": {},
   "outputs": [
    {
     "name": "stdout",
     "output_type": "stream",
     "text": [
      "<class 'pandas.core.series.Series'>\n"
     ]
    },
    {
     "data": {
      "image/png": "[encoded data removed]",
      "text/plain": [
       "<Figure size 432x288 with 1 Axes>"
      ]
     },
     "metadata": {
      "needs_background": "light"
     },
     "output_type": "display_data"
    }
   ],
   "source": [
    "x = df_label['Score']\n",
    "print(type(x))\n",
    "x.plot.hist(grid=True, bins=7, rwidth=0.9,\n",
    "                   color='#607c8e')\n",
    "plt.title('Histogram of Score')\n",
    "plt.xlabel('Score')\n",
    "plt.ylabel('Num of records')\n",
    "plt.grid(axis='y', alpha=0.75)"
   ]
  },
  {
   "cell_type": "code",
   "execution_count": 28,
   "metadata": {},
   "outputs": [
    {
     "name": "stdout",
     "output_type": "stream",
     "text": [
      "Train on 3428 samples, validate on 858 samples\n",
      "Epoch 1/200\n",
      "3428/3428 [==============================] - 0s 62us/sample - loss: 35.2137 - mean_squared_error: 35.2137 - rmse: 5.9341 - mean_absolute_error: 5.0039 - r_square: -6.7383 - val_loss: 24.2343 - val_mean_squared_error: 24.2343 - val_rmse: 4.9228 - val_mean_absolute_error: 4.1657 - val_r_square: -3.5981\n",
      "Epoch 2/200\n",
      "3428/3428 [==============================] - 0s 36us/sample - loss: 25.0499 - mean_squared_error: 25.0499 - rmse: 5.0050 - mean_absolute_error: 4.1988 - r_square: -4.4156 - val_loss: 19.7841 - val_mean_squared_error: 19.7841 - val_rmse: 4.4479 - val_mean_absolute_error: 3.7262 - val_r_square: -2.6566\n",
      "Epoch 3/200\n",
      "3428/3428 [==============================] - 0s 35us/sample - loss: 20.7651 - mean_squared_error: 20.7651 - rmse: 4.5569 - mean_absolute_error: 3.7889 - r_square: -3.5725 - val_loss: 17.3605 - val_mean_squared_error: 17.3605 - val_rmse: 4.1666 - val_mean_absolute_error: 3.4692 - val_r_square: -2.2624\n",
      "Epoch 4/200\n",
      "3428/3428 [==============================] - 0s 39us/sample - loss: 18.2978 - mean_squared_error: 18.2978 - rmse: 4.2776 - mean_absolute_error: 3.5324 - r_square: -2.9944 - val_loss: 15.3536 - val_mean_squared_error: 15.3536 - val_rmse: 3.9184 - val_mean_absolute_error: 3.2483 - val_r_square: -1.9369\n",
      "Epoch 5/200\n",
      "3428/3428 [==============================] - 0s 42us/sample - loss: 16.5314 - mean_squared_error: 16.5314 - rmse: 4.0659 - mean_absolute_error: 3.3457 - r_square: -2.5797 - val_loss: 13.9750 - val_mean_squared_error: 13.9750 - val_rmse: 3.7383 - val_mean_absolute_error: 3.0786 - val_r_square: -1.6289\n",
      "Epoch 6/200\n",
      "3428/3428 [==============================] - 0s 41us/sample - loss: 15.0843 - mean_squared_error: 15.0843 - rmse: 3.8838 - mean_absolute_error: 3.1808 - r_square: -2.2432 - val_loss: 12.3379 - val_mean_squared_error: 12.3379 - val_rmse: 3.5125 - val_mean_absolute_error: 2.8609 - val_r_square: -1.3400\n",
      "Epoch 7/200\n",
      "3428/3428 [==============================] - 0s 40us/sample - loss: 13.8054 - mean_squared_error: 13.8054 - rmse: 3.7156 - mean_absolute_error: 3.0366 - r_square: -1.9699 - val_loss: 11.5769 - val_mean_squared_error: 11.5769 - val_rmse: 3.4025 - val_mean_absolute_error: 2.7626 - val_r_square: -1.2441\n",
      "Epoch 8/200\n",
      "3428/3428 [==============================] - 0s 43us/sample - loss: 12.6411 - mean_squared_error: 12.6411 - rmse: 3.5554 - mean_absolute_error: 2.8893 - r_square: -1.7709 - val_loss: 10.3569 - val_mean_squared_error: 10.3569 - val_rmse: 3.2182 - val_mean_absolute_error: 2.5909 - val_r_square: -0.9332\n",
      "Epoch 9/200\n",
      "3428/3428 [==============================] - 0s 44us/sample - loss: 11.5555 - mean_squared_error: 11.5555 - rmse: 3.3993 - mean_absolute_error: 2.7606 - r_square: -1.4808 - val_loss: 9.5271 - val_mean_squared_error: 9.5271 - val_rmse: 3.0866 - val_mean_absolute_error: 2.4842 - val_r_square: -0.7757\n",
      "Epoch 10/200\n",
      "3428/3428 [==============================] - 0s 39us/sample - loss: 10.4945 - mean_squared_error: 10.4945 - rmse: 3.2395 - mean_absolute_error: 2.6213 - r_square: -1.2644 - val_loss: 8.7976 - val_mean_squared_error: 8.7976 - val_rmse: 2.9661 - val_mean_absolute_error: 2.3986 - val_r_square: -0.6260\n",
      "Epoch 11/200\n",
      "3428/3428 [==============================] - 0s 41us/sample - loss: 9.5807 - mean_squared_error: 9.5807 - rmse: 3.0953 - mean_absolute_error: 2.5019 - r_square: -1.0560 - val_loss: 8.1005 - val_mean_squared_error: 8.1005 - val_rmse: 2.8461 - val_mean_absolute_error: 2.3037 - val_r_square: -0.4985\n",
      "Epoch 12/200\n",
      "3428/3428 [==============================] - 0s 42us/sample - loss: 8.7787 - mean_squared_error: 8.7787 - rmse: 2.9629 - mean_absolute_error: 2.3906 - r_square: -0.9308 - val_loss: 7.7784 - val_mean_squared_error: 7.7784 - val_rmse: 2.7890 - val_mean_absolute_error: 2.2611 - val_r_square: -0.4196\n",
      "Epoch 13/200\n",
      "3428/3428 [==============================] - 0s 38us/sample - loss: 8.0841 - mean_squared_error: 8.0841 - rmse: 2.8432 - mean_absolute_error: 2.2981 - r_square: -0.7440 - val_loss: 7.3139 - val_mean_squared_error: 7.3139 - val_rmse: 2.7044 - val_mean_absolute_error: 2.1687 - val_r_square: -0.3422\n",
      "Epoch 14/200\n",
      "3428/3428 [==============================] - 0s 37us/sample - loss: 7.4438 - mean_squared_error: 7.4438 - rmse: 2.7283 - mean_absolute_error: 2.2056 - r_square: -0.6056 - val_loss: 6.9707 - val_mean_squared_error: 6.9707 - val_rmse: 2.6402 - val_mean_absolute_error: 2.1354 - val_r_square: -0.2951\n",
      "Epoch 15/200\n",
      "3428/3428 [==============================] - 0s 35us/sample - loss: 7.0658 - mean_squared_error: 7.0658 - rmse: 2.6582 - mean_absolute_error: 2.1505 - r_square: -0.4987 - val_loss: 6.6645 - val_mean_squared_error: 6.6645 - val_rmse: 2.5816 - val_mean_absolute_error: 2.0819 - val_r_square: -0.2262\n",
      "Epoch 16/200\n",
      "3428/3428 [==============================] - 0s 38us/sample - loss: 6.7061 - mean_squared_error: 6.7061 - rmse: 2.5896 - mean_absolute_error: 2.0979 - r_square: -0.4390 - val_loss: 6.4659 - val_mean_squared_error: 6.4659 - val_rmse: 2.5428 - val_mean_absolute_error: 2.0398 - val_r_square: -0.2179\n",
      "Epoch 17/200\n",
      "3428/3428 [==============================] - 0s 37us/sample - loss: 6.4699 - mean_squared_error: 6.4699 - rmse: 2.5436 - mean_absolute_error: 2.0568 - r_square: -0.3934 - val_loss: 6.3977 - val_mean_squared_error: 6.3977 - val_rmse: 2.5294 - val_mean_absolute_error: 2.0195 - val_r_square: -0.2196\n",
      "Epoch 18/200\n",
      "3428/3428 [==============================] - 0s 35us/sample - loss: 6.2491 - mean_squared_error: 6.2491 - rmse: 2.4998 - mean_absolute_error: 2.0240 - r_square: -0.3313 - val_loss: 6.3283 - val_mean_squared_error: 6.3283 - val_rmse: 2.5156 - val_mean_absolute_error: 2.0163 - val_r_square: -0.1829\n",
      "Epoch 19/200\n",
      "3428/3428 [==============================] - 0s 34us/sample - loss: 6.1063 - mean_squared_error: 6.1063 - rmse: 2.4711 - mean_absolute_error: 2.0042 - r_square: -0.3157 - val_loss: 6.2386 - val_mean_squared_error: 6.2386 - val_rmse: 2.4977 - val_mean_absolute_error: 2.0087 - val_r_square: -0.1486\n",
      "Epoch 20/200\n",
      "3428/3428 [==============================] - 0s 35us/sample - loss: 5.9658 - mean_squared_error: 5.9658 - rmse: 2.4425 - mean_absolute_error: 1.9751 - r_square: -0.2647 - val_loss: 6.3615 - val_mean_squared_error: 6.3615 - val_rmse: 2.5222 - val_mean_absolute_error: 2.0269 - val_r_square: -0.1705\n",
      "Epoch 21/200\n",
      "3428/3428 [==============================] - 0s 36us/sample - loss: 5.8823 - mean_squared_error: 5.8823 - rmse: 2.4253 - mean_absolute_error: 1.9649 - r_square: -0.2625 - val_loss: 6.3386 - val_mean_squared_error: 6.3386 - val_rmse: 2.5176 - val_mean_absolute_error: 2.0320 - val_r_square: -0.1643\n",
      "Epoch 22/200\n",
      "3428/3428 [==============================] - 0s 43us/sample - loss: 5.7658 - mean_squared_error: 5.7658 - rmse: 2.4012 - mean_absolute_error: 1.9515 - r_square: -0.2352 - val_loss: 6.0202 - val_mean_squared_error: 6.0202 - val_rmse: 2.4536 - val_mean_absolute_error: 1.9557 - val_r_square: -0.1144\n",
      "Epoch 23/200\n",
      "3428/3428 [==============================] - 0s 39us/sample - loss: 5.6528 - mean_squared_error: 5.6528 - rmse: 2.3776 - mean_absolute_error: 1.9253 - r_square: -0.2347 - val_loss: 5.9116 - val_mean_squared_error: 5.9116 - val_rmse: 2.4314 - val_mean_absolute_error: 1.9428 - val_r_square: -0.1347\n",
      "Epoch 24/200\n",
      "3428/3428 [==============================] - 0s 40us/sample - loss: 5.6117 - mean_squared_error: 5.6117 - rmse: 2.3689 - mean_absolute_error: 1.9224 - r_square: -0.2038 - val_loss: 5.8864 - val_mean_squared_error: 5.8864 - val_rmse: 2.4262 - val_mean_absolute_error: 1.9309 - val_r_square: -0.0888\n",
      "Epoch 25/200\n",
      "3428/3428 [==============================] - 0s 40us/sample - loss: 5.5113 - mean_squared_error: 5.5113 - rmse: 2.3476 - mean_absolute_error: 1.9056 - r_square: -0.1870 - val_loss: 5.7092 - val_mean_squared_error: 5.7092 - val_rmse: 2.3894 - val_mean_absolute_error: 1.9131 - val_r_square: -0.0731\n",
      "Epoch 26/200\n",
      "3428/3428 [==============================] - 0s 40us/sample - loss: 5.4264 - mean_squared_error: 5.4264 - rmse: 2.3295 - mean_absolute_error: 1.8953 - r_square: -0.2168 - val_loss: 5.7372 - val_mean_squared_error: 5.7372 - val_rmse: 2.3952 - val_mean_absolute_error: 1.9165 - val_r_square: -0.0775\n",
      "Epoch 27/200\n"
     ]
    },
    {
     "name": "stdout",
     "output_type": "stream",
     "text": [
      "3428/3428 [==============================] - 0s 37us/sample - loss: 5.4100 - mean_squared_error: 5.4100 - rmse: 2.3259 - mean_absolute_error: 1.8911 - r_square: -0.1504 - val_loss: 5.7165 - val_mean_squared_error: 5.7165 - val_rmse: 2.3909 - val_mean_absolute_error: 1.9122 - val_r_square: -0.0391\n",
      "Epoch 28/200\n",
      "3428/3428 [==============================] - 0s 35us/sample - loss: 5.2957 - mean_squared_error: 5.2957 - rmse: 2.3012 - mean_absolute_error: 1.8750 - r_square: -0.1305 - val_loss: 5.6268 - val_mean_squared_error: 5.6268 - val_rmse: 2.3721 - val_mean_absolute_error: 1.9045 - val_r_square: -0.0338\n",
      "Epoch 29/200\n",
      "3428/3428 [==============================] - 0s 38us/sample - loss: 5.2667 - mean_squared_error: 5.2667 - rmse: 2.2949 - mean_absolute_error: 1.8710 - r_square: -0.1286 - val_loss: 5.5275 - val_mean_squared_error: 5.5275 - val_rmse: 2.3511 - val_mean_absolute_error: 1.8868 - val_r_square: -0.0092\n",
      "Epoch 30/200\n",
      "3428/3428 [==============================] - 0s 39us/sample - loss: 5.2271 - mean_squared_error: 5.2271 - rmse: 2.2863 - mean_absolute_error: 1.8635 - r_square: -0.1313 - val_loss: 5.6510 - val_mean_squared_error: 5.6510 - val_rmse: 2.3772 - val_mean_absolute_error: 1.9092 - val_r_square: -0.0569\n",
      "Epoch 31/200\n",
      "3428/3428 [==============================] - 0s 39us/sample - loss: 5.1382 - mean_squared_error: 5.1382 - rmse: 2.2668 - mean_absolute_error: 1.8484 - r_square: -0.0892 - val_loss: 5.4772 - val_mean_squared_error: 5.4772 - val_rmse: 2.3403 - val_mean_absolute_error: 1.8773 - val_r_square: -0.0186\n",
      "Epoch 32/200\n",
      "3428/3428 [==============================] - 0s 39us/sample - loss: 5.0981 - mean_squared_error: 5.0981 - rmse: 2.2579 - mean_absolute_error: 1.8439 - r_square: -0.0976 - val_loss: 5.4282 - val_mean_squared_error: 5.4282 - val_rmse: 2.3299 - val_mean_absolute_error: 1.8789 - val_r_square: -0.0266\n",
      "Epoch 33/200\n",
      "3428/3428 [==============================] - 0s 40us/sample - loss: 5.0440 - mean_squared_error: 5.0440 - rmse: 2.2459 - mean_absolute_error: 1.8339 - r_square: -0.0541 - val_loss: 5.3340 - val_mean_squared_error: 5.3340 - val_rmse: 2.3095 - val_mean_absolute_error: 1.8515 - val_r_square: 0.0246\n",
      "Epoch 34/200\n",
      "3428/3428 [==============================] - 0s 38us/sample - loss: 4.9935 - mean_squared_error: 4.9935 - rmse: 2.2346 - mean_absolute_error: 1.8242 - r_square: -0.0652 - val_loss: 5.2942 - val_mean_squared_error: 5.2942 - val_rmse: 2.3009 - val_mean_absolute_error: 1.8456 - val_r_square: 0.0135\n",
      "Epoch 35/200\n",
      "3428/3428 [==============================] - 0s 37us/sample - loss: 4.9387 - mean_squared_error: 4.9387 - rmse: 2.2223 - mean_absolute_error: 1.8184 - r_square: -0.0394 - val_loss: 5.3511 - val_mean_squared_error: 5.3511 - val_rmse: 2.3132 - val_mean_absolute_error: 1.8580 - val_r_square: 0.0043\n",
      "Epoch 36/200\n",
      "3428/3428 [==============================] - 0s 39us/sample - loss: 4.9581 - mean_squared_error: 4.9581 - rmse: 2.2267 - mean_absolute_error: 1.8226 - r_square: -0.0452 - val_loss: 5.3154 - val_mean_squared_error: 5.3154 - val_rmse: 2.3055 - val_mean_absolute_error: 1.8606 - val_r_square: 0.0087\n",
      "Epoch 37/200\n",
      "3428/3428 [==============================] - 0s 40us/sample - loss: 4.8776 - mean_squared_error: 4.8776 - rmse: 2.2085 - mean_absolute_error: 1.8082 - r_square: -0.0313 - val_loss: 5.2482 - val_mean_squared_error: 5.2482 - val_rmse: 2.2909 - val_mean_absolute_error: 1.8406 - val_r_square: 0.0400\n",
      "Epoch 38/200\n",
      "3428/3428 [==============================] - 0s 40us/sample - loss: 4.8887 - mean_squared_error: 4.8887 - rmse: 2.2110 - mean_absolute_error: 1.8097 - r_square: -0.0604 - val_loss: 5.2565 - val_mean_squared_error: 5.2565 - val_rmse: 2.2927 - val_mean_absolute_error: 1.8462 - val_r_square: 0.0100\n",
      "Epoch 39/200\n",
      "3428/3428 [==============================] - 0s 39us/sample - loss: 4.8180 - mean_squared_error: 4.8180 - rmse: 2.1950 - mean_absolute_error: 1.7973 - r_square: -0.0235 - val_loss: 5.2001 - val_mean_squared_error: 5.2001 - val_rmse: 2.2804 - val_mean_absolute_error: 1.8439 - val_r_square: 0.0351\n",
      "Epoch 40/200\n",
      "3428/3428 [==============================] - 0s 36us/sample - loss: 4.7724 - mean_squared_error: 4.7724 - rmse: 2.1846 - mean_absolute_error: 1.7931 - r_square: -0.0100 - val_loss: 5.1112 - val_mean_squared_error: 5.1112 - val_rmse: 2.2608 - val_mean_absolute_error: 1.8293 - val_r_square: 0.0494\n",
      "Epoch 41/200\n",
      "3428/3428 [==============================] - 0s 36us/sample - loss: 4.7254 - mean_squared_error: 4.7254 - rmse: 2.1738 - mean_absolute_error: 1.7842 - r_square: 0.0058 - val_loss: 5.1568 - val_mean_squared_error: 5.1568 - val_rmse: 2.2709 - val_mean_absolute_error: 1.8201 - val_r_square: 0.0376\n",
      "Epoch 42/200\n",
      "3428/3428 [==============================] - 0s 39us/sample - loss: 4.7160 - mean_squared_error: 4.7160 - rmse: 2.1716 - mean_absolute_error: 1.7796 - r_square: -0.0075 - val_loss: 5.0868 - val_mean_squared_error: 5.0868 - val_rmse: 2.2554 - val_mean_absolute_error: 1.8203 - val_r_square: 0.0620\n",
      "Epoch 43/200\n",
      "3428/3428 [==============================] - 0s 44us/sample - loss: 4.6647 - mean_squared_error: 4.6647 - rmse: 2.1598 - mean_absolute_error: 1.7775 - r_square: 0.0258 - val_loss: 5.0255 - val_mean_squared_error: 5.0255 - val_rmse: 2.2418 - val_mean_absolute_error: 1.8106 - val_r_square: 0.0691\n",
      "Epoch 44/200\n",
      "3428/3428 [==============================] - 0s 43us/sample - loss: 4.6415 - mean_squared_error: 4.6415 - rmse: 2.1544 - mean_absolute_error: 1.7703 - r_square: -0.0267 - val_loss: 5.0399 - val_mean_squared_error: 5.0399 - val_rmse: 2.2450 - val_mean_absolute_error: 1.8067 - val_r_square: 0.0534\n",
      "Epoch 45/200\n",
      "3428/3428 [==============================] - 0s 37us/sample - loss: 4.6673 - mean_squared_error: 4.6673 - rmse: 2.1604 - mean_absolute_error: 1.7734 - r_square: 0.0070 - val_loss: 5.0475 - val_mean_squared_error: 5.0475 - val_rmse: 2.2467 - val_mean_absolute_error: 1.8098 - val_r_square: 0.0731\n",
      "Epoch 46/200\n",
      "3428/3428 [==============================] - 0s 36us/sample - loss: 4.5907 - mean_squared_error: 4.5907 - rmse: 2.1426 - mean_absolute_error: 1.7585 - r_square: 0.0121 - val_loss: 5.0341 - val_mean_squared_error: 5.0341 - val_rmse: 2.2437 - val_mean_absolute_error: 1.8216 - val_r_square: 0.0807\n",
      "Epoch 47/200\n",
      "3428/3428 [==============================] - 0s 39us/sample - loss: 4.5954 - mean_squared_error: 4.5954 - rmse: 2.1437 - mean_absolute_error: 1.7650 - r_square: 0.0337 - val_loss: 4.9714 - val_mean_squared_error: 4.9714 - val_rmse: 2.2297 - val_mean_absolute_error: 1.7881 - val_r_square: 0.0873\n",
      "Epoch 48/200\n",
      "3428/3428 [==============================] - 0s 36us/sample - loss: 4.5359 - mean_squared_error: 4.5359 - rmse: 2.1298 - mean_absolute_error: 1.7514 - r_square: 0.0411 - val_loss: 4.8829 - val_mean_squared_error: 4.8829 - val_rmse: 2.2097 - val_mean_absolute_error: 1.7906 - val_r_square: 0.0649\n",
      "Epoch 49/200\n",
      "3428/3428 [==============================] - 0s 44us/sample - loss: 4.4995 - mean_squared_error: 4.4995 - rmse: 2.1212 - mean_absolute_error: 1.7430 - r_square: 0.0435 - val_loss: 5.0053 - val_mean_squared_error: 5.0053 - val_rmse: 2.2372 - val_mean_absolute_error: 1.8151 - val_r_square: 0.0707\n",
      "Epoch 50/200\n",
      "3428/3428 [==============================] - 0s 37us/sample - loss: 4.4951 - mean_squared_error: 4.4951 - rmse: 2.1202 - mean_absolute_error: 1.7464 - r_square: 0.0353 - val_loss: 4.8362 - val_mean_squared_error: 4.8362 - val_rmse: 2.1991 - val_mean_absolute_error: 1.7816 - val_r_square: 0.0867\n",
      "Epoch 51/200\n",
      "3428/3428 [==============================] - 0s 41us/sample - loss: 4.5286 - mean_squared_error: 4.5286 - rmse: 2.1280 - mean_absolute_error: 1.7493 - r_square: 0.0407 - val_loss: 4.8475 - val_mean_squared_error: 4.8475 - val_rmse: 2.2017 - val_mean_absolute_error: 1.7919 - val_r_square: 0.1085\n",
      "Epoch 52/200\n",
      "3428/3428 [==============================] - 0s 46us/sample - loss: 4.4743 - mean_squared_error: 4.4743 - rmse: 2.1153 - mean_absolute_error: 1.7382 - r_square: 0.0452 - val_loss: 4.8319 - val_mean_squared_error: 4.8319 - val_rmse: 2.1982 - val_mean_absolute_error: 1.7937 - val_r_square: 0.1004\n",
      "Epoch 53/200\n"
     ]
    },
    {
     "name": "stdout",
     "output_type": "stream",
     "text": [
      "3428/3428 [==============================] - 0s 36us/sample - loss: 4.4562 - mean_squared_error: 4.4562 - rmse: 2.1110 - mean_absolute_error: 1.7377 - r_square: 0.0641 - val_loss: 4.9520 - val_mean_squared_error: 4.9520 - val_rmse: 2.2253 - val_mean_absolute_error: 1.8171 - val_r_square: 0.0812\n",
      "Epoch 54/200\n",
      "3428/3428 [==============================] - 0s 34us/sample - loss: 4.4470 - mean_squared_error: 4.4470 - rmse: 2.1088 - mean_absolute_error: 1.7411 - r_square: 0.0438 - val_loss: 4.7888 - val_mean_squared_error: 4.7888 - val_rmse: 2.1883 - val_mean_absolute_error: 1.7735 - val_r_square: 0.1166\n",
      "Epoch 55/200\n",
      "3428/3428 [==============================] - 0s 46us/sample - loss: 4.4043 - mean_squared_error: 4.4043 - rmse: 2.0986 - mean_absolute_error: 1.7287 - r_square: 0.0656 - val_loss: 4.7941 - val_mean_squared_error: 4.7941 - val_rmse: 2.1895 - val_mean_absolute_error: 1.7817 - val_r_square: 0.1160\n",
      "Epoch 56/200\n",
      "3428/3428 [==============================] - 0s 44us/sample - loss: 4.4148 - mean_squared_error: 4.4148 - rmse: 2.1011 - mean_absolute_error: 1.7281 - r_square: 0.0616 - val_loss: 4.7833 - val_mean_squared_error: 4.7833 - val_rmse: 2.1871 - val_mean_absolute_error: 1.7881 - val_r_square: 0.1057\n",
      "Epoch 57/200\n",
      "3428/3428 [==============================] - 0s 42us/sample - loss: 4.3801 - mean_squared_error: 4.3801 - rmse: 2.0929 - mean_absolute_error: 1.7254 - r_square: 0.0808 - val_loss: 4.7871 - val_mean_squared_error: 4.7871 - val_rmse: 2.1879 - val_mean_absolute_error: 1.8010 - val_r_square: 0.1277\n",
      "Epoch 58/200\n",
      "3428/3428 [==============================] - 0s 42us/sample - loss: 4.3943 - mean_squared_error: 4.3943 - rmse: 2.0963 - mean_absolute_error: 1.7269 - r_square: 0.0729 - val_loss: 4.7320 - val_mean_squared_error: 4.7320 - val_rmse: 2.1753 - val_mean_absolute_error: 1.7802 - val_r_square: 0.1112\n",
      "Epoch 59/200\n",
      "3428/3428 [==============================] - 0s 40us/sample - loss: 4.3604 - mean_squared_error: 4.3604 - rmse: 2.0882 - mean_absolute_error: 1.7224 - r_square: 0.0643 - val_loss: 4.6982 - val_mean_squared_error: 4.6982 - val_rmse: 2.1675 - val_mean_absolute_error: 1.7767 - val_r_square: 0.1292\n",
      "Epoch 60/200\n",
      "3428/3428 [==============================] - 0s 41us/sample - loss: 4.3912 - mean_squared_error: 4.3912 - rmse: 2.0955 - mean_absolute_error: 1.7219 - r_square: 0.0557 - val_loss: 4.6750 - val_mean_squared_error: 4.6750 - val_rmse: 2.1622 - val_mean_absolute_error: 1.7690 - val_r_square: 0.1442\n",
      "Epoch 61/200\n",
      "3428/3428 [==============================] - 0s 36us/sample - loss: 4.3353 - mean_squared_error: 4.3353 - rmse: 2.0821 - mean_absolute_error: 1.7195 - r_square: 0.0871 - val_loss: 4.6849 - val_mean_squared_error: 4.6849 - val_rmse: 2.1645 - val_mean_absolute_error: 1.7694 - val_r_square: 0.1374\n",
      "Epoch 62/200\n",
      "3428/3428 [==============================] - 0s 34us/sample - loss: 4.3637 - mean_squared_error: 4.3637 - rmse: 2.0890 - mean_absolute_error: 1.7226 - r_square: 0.0801 - val_loss: 4.7411 - val_mean_squared_error: 4.7411 - val_rmse: 2.1774 - val_mean_absolute_error: 1.7899 - val_r_square: 0.1374\n",
      "Epoch 63/200\n",
      "3428/3428 [==============================] - 0s 34us/sample - loss: 4.3368 - mean_squared_error: 4.3368 - rmse: 2.0825 - mean_absolute_error: 1.7152 - r_square: 0.0807 - val_loss: 4.7035 - val_mean_squared_error: 4.7035 - val_rmse: 2.1688 - val_mean_absolute_error: 1.7842 - val_r_square: 0.1358\n",
      "Epoch 64/200\n",
      "3428/3428 [==============================] - 0s 34us/sample - loss: 4.3618 - mean_squared_error: 4.3618 - rmse: 2.0885 - mean_absolute_error: 1.7190 - r_square: 0.0745 - val_loss: 4.7063 - val_mean_squared_error: 4.7063 - val_rmse: 2.1694 - val_mean_absolute_error: 1.7664 - val_r_square: 0.1435\n",
      "Epoch 65/200\n",
      "3428/3428 [==============================] - 0s 33us/sample - loss: 4.3187 - mean_squared_error: 4.3187 - rmse: 2.0781 - mean_absolute_error: 1.7141 - r_square: 0.0928 - val_loss: 4.7057 - val_mean_squared_error: 4.7057 - val_rmse: 2.1693 - val_mean_absolute_error: 1.7839 - val_r_square: 0.1261\n",
      "Epoch 66/200\n",
      "3428/3428 [==============================] - 0s 34us/sample - loss: 4.3148 - mean_squared_error: 4.3148 - rmse: 2.0772 - mean_absolute_error: 1.7128 - r_square: 0.0908 - val_loss: 4.6990 - val_mean_squared_error: 4.6990 - val_rmse: 2.1677 - val_mean_absolute_error: 1.7811 - val_r_square: 0.1231\n",
      "Epoch 67/200\n",
      "3428/3428 [==============================] - 0s 41us/sample - loss: 4.3509 - mean_squared_error: 4.3509 - rmse: 2.0859 - mean_absolute_error: 1.7169 - r_square: 0.0839 - val_loss: 4.7225 - val_mean_squared_error: 4.7225 - val_rmse: 2.1731 - val_mean_absolute_error: 1.7835 - val_r_square: 0.1282\n",
      "Epoch 68/200\n",
      "3428/3428 [==============================] - 0s 42us/sample - loss: 4.3497 - mean_squared_error: 4.3497 - rmse: 2.0856 - mean_absolute_error: 1.7183 - r_square: 0.0897 - val_loss: 4.6490 - val_mean_squared_error: 4.6490 - val_rmse: 2.1562 - val_mean_absolute_error: 1.7672 - val_r_square: 0.1330\n",
      "Epoch 69/200\n",
      "3428/3428 [==============================] - 0s 41us/sample - loss: 4.3035 - mean_squared_error: 4.3035 - rmse: 2.0745 - mean_absolute_error: 1.7104 - r_square: 0.0875 - val_loss: 4.6539 - val_mean_squared_error: 4.6539 - val_rmse: 2.1573 - val_mean_absolute_error: 1.7704 - val_r_square: 0.1438\n",
      "Epoch 70/200\n",
      "3428/3428 [==============================] - 0s 39us/sample - loss: 4.3107 - mean_squared_error: 4.3107 - rmse: 2.0762 - mean_absolute_error: 1.7122 - r_square: 0.0903 - val_loss: 4.7298 - val_mean_squared_error: 4.7298 - val_rmse: 2.1748 - val_mean_absolute_error: 1.7813 - val_r_square: 0.1233\n",
      "Epoch 71/200\n",
      "3428/3428 [==============================] - 0s 37us/sample - loss: 4.3169 - mean_squared_error: 4.3169 - rmse: 2.0777 - mean_absolute_error: 1.7095 - r_square: 0.0760 - val_loss: 4.7055 - val_mean_squared_error: 4.7055 - val_rmse: 2.1692 - val_mean_absolute_error: 1.7865 - val_r_square: 0.1235\n",
      "Epoch 72/200\n",
      "3428/3428 [==============================] - 0s 38us/sample - loss: 4.2931 - mean_squared_error: 4.2931 - rmse: 2.0720 - mean_absolute_error: 1.7088 - r_square: 0.0934 - val_loss: 4.6496 - val_mean_squared_error: 4.6496 - val_rmse: 2.1563 - val_mean_absolute_error: 1.7705 - val_r_square: 0.1608\n",
      "Epoch 73/200\n",
      "3428/3428 [==============================] - 0s 41us/sample - loss: 4.3171 - mean_squared_error: 4.3171 - rmse: 2.0778 - mean_absolute_error: 1.7119 - r_square: 0.0874 - val_loss: 4.6981 - val_mean_squared_error: 4.6981 - val_rmse: 2.1675 - val_mean_absolute_error: 1.7846 - val_r_square: 0.1273\n",
      "Epoch 74/200\n",
      "3428/3428 [==============================] - 0s 38us/sample - loss: 4.2805 - mean_squared_error: 4.2805 - rmse: 2.0689 - mean_absolute_error: 1.7069 - r_square: 0.0850 - val_loss: 4.6560 - val_mean_squared_error: 4.6560 - val_rmse: 2.1578 - val_mean_absolute_error: 1.7744 - val_r_square: 0.1392\n",
      "Epoch 75/200\n",
      "3428/3428 [==============================] - 0s 37us/sample - loss: 4.2913 - mean_squared_error: 4.2913 - rmse: 2.0715 - mean_absolute_error: 1.7030 - r_square: 0.0832 - val_loss: 4.7443 - val_mean_squared_error: 4.7443 - val_rmse: 2.1781 - val_mean_absolute_error: 1.7899 - val_r_square: 0.1306\n",
      "Epoch 76/200\n",
      "3428/3428 [==============================] - 0s 36us/sample - loss: 4.3188 - mean_squared_error: 4.3188 - rmse: 2.0782 - mean_absolute_error: 1.7130 - r_square: 0.0912 - val_loss: 4.6898 - val_mean_squared_error: 4.6898 - val_rmse: 2.1656 - val_mean_absolute_error: 1.7904 - val_r_square: 0.1125\n",
      "Epoch 77/200\n",
      "3428/3428 [==============================] - 0s 34us/sample - loss: 4.2994 - mean_squared_error: 4.2994 - rmse: 2.0735 - mean_absolute_error: 1.7075 - r_square: 0.0909 - val_loss: 4.6402 - val_mean_squared_error: 4.6402 - val_rmse: 2.1541 - val_mean_absolute_error: 1.7853 - val_r_square: 0.1218\n",
      "Epoch 78/200\n",
      "3428/3428 [==============================] - 0s 36us/sample - loss: 4.3148 - mean_squared_error: 4.3148 - rmse: 2.0772 - mean_absolute_error: 1.7119 - r_square: 0.0738 - val_loss: 4.6737 - val_mean_squared_error: 4.6737 - val_rmse: 2.1619 - val_mean_absolute_error: 1.7681 - val_r_square: 0.1388\n",
      "Epoch 79/200\n"
     ]
    },
    {
     "name": "stdout",
     "output_type": "stream",
     "text": [
      "3428/3428 [==============================] - 0s 34us/sample - loss: 4.3060 - mean_squared_error: 4.3060 - rmse: 2.0751 - mean_absolute_error: 1.7082 - r_square: 0.0905 - val_loss: 4.6485 - val_mean_squared_error: 4.6485 - val_rmse: 2.1560 - val_mean_absolute_error: 1.7706 - val_r_square: 0.1090\n",
      "Epoch 80/200\n",
      "3428/3428 [==============================] - 0s 34us/sample - loss: 4.2770 - mean_squared_error: 4.2770 - rmse: 2.0681 - mean_absolute_error: 1.7032 - r_square: 0.0955 - val_loss: 4.6042 - val_mean_squared_error: 4.6042 - val_rmse: 2.1457 - val_mean_absolute_error: 1.7650 - val_r_square: 0.1514\n",
      "Epoch 81/200\n",
      "3428/3428 [==============================] - 0s 38us/sample - loss: 4.2956 - mean_squared_error: 4.2956 - rmse: 2.0726 - mean_absolute_error: 1.7101 - r_square: 0.0799 - val_loss: 4.6531 - val_mean_squared_error: 4.6531 - val_rmse: 2.1571 - val_mean_absolute_error: 1.7625 - val_r_square: 0.1460\n",
      "Epoch 82/200\n",
      "3428/3428 [==============================] - 0s 38us/sample - loss: 4.2668 - mean_squared_error: 4.2668 - rmse: 2.0656 - mean_absolute_error: 1.7033 - r_square: 0.0965 - val_loss: 4.6388 - val_mean_squared_error: 4.6388 - val_rmse: 2.1538 - val_mean_absolute_error: 1.7775 - val_r_square: 0.1469\n",
      "Epoch 83/200\n",
      "3428/3428 [==============================] - 0s 34us/sample - loss: 4.2753 - mean_squared_error: 4.2753 - rmse: 2.0677 - mean_absolute_error: 1.7042 - r_square: 0.0900 - val_loss: 4.6207 - val_mean_squared_error: 4.6207 - val_rmse: 2.1496 - val_mean_absolute_error: 1.7648 - val_r_square: 0.1553\n",
      "Epoch 84/200\n",
      "3428/3428 [==============================] - 0s 35us/sample - loss: 4.2581 - mean_squared_error: 4.2581 - rmse: 2.0635 - mean_absolute_error: 1.6950 - r_square: 0.0963 - val_loss: 4.6383 - val_mean_squared_error: 4.6383 - val_rmse: 2.1537 - val_mean_absolute_error: 1.7648 - val_r_square: 0.1586\n",
      "Epoch 85/200\n",
      "3428/3428 [==============================] - 0s 35us/sample - loss: 4.3016 - mean_squared_error: 4.3016 - rmse: 2.0740 - mean_absolute_error: 1.7144 - r_square: 0.0887 - val_loss: 4.6907 - val_mean_squared_error: 4.6907 - val_rmse: 2.1658 - val_mean_absolute_error: 1.7890 - val_r_square: 0.1320\n",
      "Epoch 86/200\n",
      "3428/3428 [==============================] - 0s 35us/sample - loss: 4.3113 - mean_squared_error: 4.3113 - rmse: 2.0764 - mean_absolute_error: 1.7096 - r_square: 0.0801 - val_loss: 4.6113 - val_mean_squared_error: 4.6113 - val_rmse: 2.1474 - val_mean_absolute_error: 1.7619 - val_r_square: 0.1670\n",
      "Epoch 87/200\n",
      "3428/3428 [==============================] - 0s 39us/sample - loss: 4.2824 - mean_squared_error: 4.2824 - rmse: 2.0694 - mean_absolute_error: 1.7042 - r_square: 0.0950 - val_loss: 4.6482 - val_mean_squared_error: 4.6482 - val_rmse: 2.1560 - val_mean_absolute_error: 1.7857 - val_r_square: 0.1574\n",
      "Epoch 88/200\n",
      "3428/3428 [==============================] - 0s 38us/sample - loss: 4.2754 - mean_squared_error: 4.2754 - rmse: 2.0677 - mean_absolute_error: 1.7056 - r_square: 0.0951 - val_loss: 4.6679 - val_mean_squared_error: 4.6679 - val_rmse: 2.1605 - val_mean_absolute_error: 1.7844 - val_r_square: 0.1349\n",
      "Epoch 89/200\n",
      "3428/3428 [==============================] - 0s 38us/sample - loss: 4.3049 - mean_squared_error: 4.3049 - rmse: 2.0748 - mean_absolute_error: 1.7095 - r_square: 0.0908 - val_loss: 4.6112 - val_mean_squared_error: 4.6112 - val_rmse: 2.1474 - val_mean_absolute_error: 1.7689 - val_r_square: 0.1469\n",
      "Epoch 90/200\n",
      "3428/3428 [==============================] - 0s 37us/sample - loss: 4.2958 - mean_squared_error: 4.2958 - rmse: 2.0726 - mean_absolute_error: 1.7113 - r_square: 0.0829 - val_loss: 4.8686 - val_mean_squared_error: 4.8686 - val_rmse: 2.2065 - val_mean_absolute_error: 1.8193 - val_r_square: 0.0974\n",
      "Epoch 91/200\n",
      "3428/3428 [==============================] - 0s 34us/sample - loss: 4.2640 - mean_squared_error: 4.2640 - rmse: 2.0650 - mean_absolute_error: 1.7006 - r_square: 0.0922 - val_loss: 4.6941 - val_mean_squared_error: 4.6941 - val_rmse: 2.1666 - val_mean_absolute_error: 1.7919 - val_r_square: 0.1130\n",
      "Epoch 92/200\n",
      "3428/3428 [==============================] - 0s 35us/sample - loss: 4.3041 - mean_squared_error: 4.3041 - rmse: 2.0746 - mean_absolute_error: 1.7090 - r_square: 0.0810 - val_loss: 4.7208 - val_mean_squared_error: 4.7208 - val_rmse: 2.1727 - val_mean_absolute_error: 1.7999 - val_r_square: 0.1170\n",
      "Epoch 93/200\n",
      "3428/3428 [==============================] - 0s 35us/sample - loss: 4.2740 - mean_squared_error: 4.2740 - rmse: 2.0674 - mean_absolute_error: 1.7043 - r_square: 0.0903 - val_loss: 4.5975 - val_mean_squared_error: 4.5975 - val_rmse: 2.1442 - val_mean_absolute_error: 1.7673 - val_r_square: 0.1406\n",
      "Epoch 94/200\n",
      "3428/3428 [==============================] - 0s 35us/sample - loss: 4.2716 - mean_squared_error: 4.2716 - rmse: 2.0668 - mean_absolute_error: 1.7017 - r_square: 0.0920 - val_loss: 4.6514 - val_mean_squared_error: 4.6514 - val_rmse: 2.1567 - val_mean_absolute_error: 1.7653 - val_r_square: 0.1397\n",
      "Epoch 95/200\n",
      "3428/3428 [==============================] - 0s 35us/sample - loss: 4.2530 - mean_squared_error: 4.2530 - rmse: 2.0623 - mean_absolute_error: 1.6988 - r_square: 0.1039 - val_loss: 4.6231 - val_mean_squared_error: 4.6231 - val_rmse: 2.1501 - val_mean_absolute_error: 1.7619 - val_r_square: 0.1288\n",
      "Epoch 96/200\n",
      "3428/3428 [==============================] - 0s 37us/sample - loss: 4.2508 - mean_squared_error: 4.2508 - rmse: 2.0617 - mean_absolute_error: 1.7009 - r_square: 0.0962 - val_loss: 4.6552 - val_mean_squared_error: 4.6552 - val_rmse: 2.1576 - val_mean_absolute_error: 1.7792 - val_r_square: 0.1391\n",
      "Epoch 97/200\n",
      "3428/3428 [==============================] - 0s 38us/sample - loss: 4.2635 - mean_squared_error: 4.2635 - rmse: 2.0648 - mean_absolute_error: 1.7019 - r_square: 0.0947 - val_loss: 4.7831 - val_mean_squared_error: 4.7831 - val_rmse: 2.1870 - val_mean_absolute_error: 1.8066 - val_r_square: 0.1239\n",
      "Epoch 98/200\n",
      "3428/3428 [==============================] - 0s 35us/sample - loss: 4.2715 - mean_squared_error: 4.2715 - rmse: 2.0668 - mean_absolute_error: 1.7010 - r_square: 0.0946 - val_loss: 4.7452 - val_mean_squared_error: 4.7452 - val_rmse: 2.1783 - val_mean_absolute_error: 1.8037 - val_r_square: 0.1326\n",
      "Epoch 99/200\n",
      "3428/3428 [==============================] - 0s 38us/sample - loss: 4.2597 - mean_squared_error: 4.2597 - rmse: 2.0639 - mean_absolute_error: 1.6999 - r_square: 0.0966 - val_loss: 4.6514 - val_mean_squared_error: 4.6514 - val_rmse: 2.1567 - val_mean_absolute_error: 1.7790 - val_r_square: 0.1510\n",
      "Epoch 100/200\n",
      "3428/3428 [==============================] - 0s 37us/sample - loss: 4.2650 - mean_squared_error: 4.2650 - rmse: 2.0652 - mean_absolute_error: 1.7026 - r_square: 0.1036 - val_loss: 4.6594 - val_mean_squared_error: 4.6594 - val_rmse: 2.1586 - val_mean_absolute_error: 1.7785 - val_r_square: 0.1440\n",
      "Epoch 101/200\n",
      "3428/3428 [==============================] - 0s 38us/sample - loss: 4.2605 - mean_squared_error: 4.2605 - rmse: 2.0641 - mean_absolute_error: 1.7014 - r_square: 0.0895 - val_loss: 4.5987 - val_mean_squared_error: 4.5987 - val_rmse: 2.1444 - val_mean_absolute_error: 1.7668 - val_r_square: 0.1315\n",
      "Epoch 102/200\n",
      "3428/3428 [==============================] - 0s 37us/sample - loss: 4.2678 - mean_squared_error: 4.2678 - rmse: 2.0659 - mean_absolute_error: 1.7013 - r_square: 0.0963 - val_loss: 4.5934 - val_mean_squared_error: 4.5934 - val_rmse: 2.1432 - val_mean_absolute_error: 1.7646 - val_r_square: 0.1536\n",
      "Epoch 103/200\n",
      "3428/3428 [==============================] - 0s 38us/sample - loss: 4.2719 - mean_squared_error: 4.2719 - rmse: 2.0669 - mean_absolute_error: 1.7049 - r_square: 0.0963 - val_loss: 4.5989 - val_mean_squared_error: 4.5989 - val_rmse: 2.1445 - val_mean_absolute_error: 1.7688 - val_r_square: 0.1438\n",
      "Epoch 104/200\n",
      "3428/3428 [==============================] - 0s 38us/sample - loss: 4.2601 - mean_squared_error: 4.2601 - rmse: 2.0640 - mean_absolute_error: 1.7035 - r_square: 0.1024 - val_loss: 4.7512 - val_mean_squared_error: 4.7512 - val_rmse: 2.1797 - val_mean_absolute_error: 1.8039 - val_r_square: 0.1121\n",
      "Epoch 105/200\n"
     ]
    },
    {
     "name": "stdout",
     "output_type": "stream",
     "text": [
      "3428/3428 [==============================] - 0s 40us/sample - loss: 4.2644 - mean_squared_error: 4.2644 - rmse: 2.0650 - mean_absolute_error: 1.7021 - r_square: 0.0943 - val_loss: 4.6002 - val_mean_squared_error: 4.6002 - val_rmse: 2.1448 - val_mean_absolute_error: 1.7579 - val_r_square: 0.1568\n",
      "Epoch 106/200\n",
      "3428/3428 [==============================] - 0s 39us/sample - loss: 4.2656 - mean_squared_error: 4.2656 - rmse: 2.0653 - mean_absolute_error: 1.7014 - r_square: 0.0865 - val_loss: 4.6250 - val_mean_squared_error: 4.6250 - val_rmse: 2.1506 - val_mean_absolute_error: 1.7755 - val_r_square: 0.1402\n",
      "Epoch 107/200\n",
      "3428/3428 [==============================] - 0s 39us/sample - loss: 4.2758 - mean_squared_error: 4.2758 - rmse: 2.0678 - mean_absolute_error: 1.7088 - r_square: 0.0882 - val_loss: 4.6626 - val_mean_squared_error: 4.6626 - val_rmse: 2.1593 - val_mean_absolute_error: 1.7787 - val_r_square: 0.1280\n",
      "Epoch 108/200\n",
      "3428/3428 [==============================] - 0s 39us/sample - loss: 4.2650 - mean_squared_error: 4.2650 - rmse: 2.0652 - mean_absolute_error: 1.7013 - r_square: 0.0892 - val_loss: 4.6660 - val_mean_squared_error: 4.6660 - val_rmse: 2.1601 - val_mean_absolute_error: 1.7849 - val_r_square: 0.1375\n",
      "Epoch 109/200\n",
      "3428/3428 [==============================] - 0s 40us/sample - loss: 4.2434 - mean_squared_error: 4.2434 - rmse: 2.0599 - mean_absolute_error: 1.7024 - r_square: 0.1044 - val_loss: 4.6791 - val_mean_squared_error: 4.6791 - val_rmse: 2.1631 - val_mean_absolute_error: 1.7858 - val_r_square: 0.1356\n",
      "Epoch 110/200\n",
      "3428/3428 [==============================] - 0s 42us/sample - loss: 4.2532 - mean_squared_error: 4.2532 - rmse: 2.0623 - mean_absolute_error: 1.6979 - r_square: 0.0943 - val_loss: 4.6933 - val_mean_squared_error: 4.6933 - val_rmse: 2.1664 - val_mean_absolute_error: 1.7634 - val_r_square: 0.1251\n",
      "Epoch 111/200\n",
      "3428/3428 [==============================] - 0s 38us/sample - loss: 4.2699 - mean_squared_error: 4.2699 - rmse: 2.0664 - mean_absolute_error: 1.7050 - r_square: 0.0899 - val_loss: 4.6952 - val_mean_squared_error: 4.6952 - val_rmse: 2.1668 - val_mean_absolute_error: 1.7920 - val_r_square: 0.0981\n",
      "Epoch 112/200\n",
      "3428/3428 [==============================] - 0s 36us/sample - loss: 4.2601 - mean_squared_error: 4.2601 - rmse: 2.0640 - mean_absolute_error: 1.7002 - r_square: 0.0865 - val_loss: 4.6640 - val_mean_squared_error: 4.6640 - val_rmse: 2.1596 - val_mean_absolute_error: 1.7867 - val_r_square: 0.1506\n",
      "Epoch 113/200\n",
      "3428/3428 [==============================] - 0s 38us/sample - loss: 4.2735 - mean_squared_error: 4.2735 - rmse: 2.0672 - mean_absolute_error: 1.7077 - r_square: 0.0964 - val_loss: 4.7007 - val_mean_squared_error: 4.7007 - val_rmse: 2.1681 - val_mean_absolute_error: 1.7905 - val_r_square: 0.1222\n",
      "Epoch 114/200\n",
      "3428/3428 [==============================] - 0s 38us/sample - loss: 4.2801 - mean_squared_error: 4.2801 - rmse: 2.0688 - mean_absolute_error: 1.7052 - r_square: 0.0953 - val_loss: 4.6557 - val_mean_squared_error: 4.6557 - val_rmse: 2.1577 - val_mean_absolute_error: 1.7713 - val_r_square: 0.1537\n",
      "Epoch 115/200\n",
      "3428/3428 [==============================] - 0s 40us/sample - loss: 4.2466 - mean_squared_error: 4.2466 - rmse: 2.0607 - mean_absolute_error: 1.6978 - r_square: 0.1007 - val_loss: 4.6067 - val_mean_squared_error: 4.6067 - val_rmse: 2.1463 - val_mean_absolute_error: 1.7626 - val_r_square: 0.1533\n",
      "Epoch 116/200\n",
      "3428/3428 [==============================] - 0s 39us/sample - loss: 4.2790 - mean_squared_error: 4.2790 - rmse: 2.0686 - mean_absolute_error: 1.7047 - r_square: 0.0938 - val_loss: 4.7875 - val_mean_squared_error: 4.7875 - val_rmse: 2.1880 - val_mean_absolute_error: 1.8099 - val_r_square: 0.1090\n",
      "Epoch 117/200\n",
      "3428/3428 [==============================] - 0s 38us/sample - loss: 4.2730 - mean_squared_error: 4.2730 - rmse: 2.0671 - mean_absolute_error: 1.7043 - r_square: 0.0828 - val_loss: 4.6598 - val_mean_squared_error: 4.6598 - val_rmse: 2.1587 - val_mean_absolute_error: 1.7820 - val_r_square: 0.1270\n",
      "Epoch 118/200\n",
      "3428/3428 [==============================] - 0s 39us/sample - loss: 4.2791 - mean_squared_error: 4.2791 - rmse: 2.0686 - mean_absolute_error: 1.7026 - r_square: 0.0909 - val_loss: 4.5976 - val_mean_squared_error: 4.5976 - val_rmse: 2.1442 - val_mean_absolute_error: 1.7678 - val_r_square: 0.1448\n",
      "Epoch 119/200\n",
      "3428/3428 [==============================] - 0s 42us/sample - loss: 4.2733 - mean_squared_error: 4.2733 - rmse: 2.0672 - mean_absolute_error: 1.7024 - r_square: 0.0978 - val_loss: 4.6019 - val_mean_squared_error: 4.6019 - val_rmse: 2.1452 - val_mean_absolute_error: 1.7576 - val_r_square: 0.1403\n",
      "Epoch 120/200\n",
      "3428/3428 [==============================] - 0s 33us/sample - loss: 4.2535 - mean_squared_error: 4.2535 - rmse: 2.0624 - mean_absolute_error: 1.6992 - r_square: 0.0993 - val_loss: 4.6935 - val_mean_squared_error: 4.6935 - val_rmse: 2.1664 - val_mean_absolute_error: 1.7876 - val_r_square: 0.1348\n",
      "Epoch 121/200\n",
      "3428/3428 [==============================] - 0s 39us/sample - loss: 4.2536 - mean_squared_error: 4.2536 - rmse: 2.0624 - mean_absolute_error: 1.6994 - r_square: 0.0945 - val_loss: 4.6414 - val_mean_squared_error: 4.6414 - val_rmse: 2.1544 - val_mean_absolute_error: 1.7794 - val_r_square: 0.1433\n",
      "Epoch 122/200\n",
      "3428/3428 [==============================] - 0s 40us/sample - loss: 4.2587 - mean_squared_error: 4.2587 - rmse: 2.0637 - mean_absolute_error: 1.7016 - r_square: 0.0873 - val_loss: 4.5957 - val_mean_squared_error: 4.5957 - val_rmse: 2.1438 - val_mean_absolute_error: 1.7633 - val_r_square: 0.1549\n",
      "Epoch 123/200\n",
      "3428/3428 [==============================] - 0s 40us/sample - loss: 4.2605 - mean_squared_error: 4.2605 - rmse: 2.0641 - mean_absolute_error: 1.7005 - r_square: 0.1017 - val_loss: 4.6761 - val_mean_squared_error: 4.6761 - val_rmse: 2.1624 - val_mean_absolute_error: 1.7794 - val_r_square: 0.1562\n",
      "Epoch 124/200\n",
      "3428/3428 [==============================] - 0s 39us/sample - loss: 4.2521 - mean_squared_error: 4.2521 - rmse: 2.0621 - mean_absolute_error: 1.6999 - r_square: 0.1053 - val_loss: 4.6071 - val_mean_squared_error: 4.6071 - val_rmse: 2.1464 - val_mean_absolute_error: 1.7530 - val_r_square: 0.1423\n",
      "Epoch 125/200\n",
      "3428/3428 [==============================] - 0s 37us/sample - loss: 4.2697 - mean_squared_error: 4.2697 - rmse: 2.0663 - mean_absolute_error: 1.7002 - r_square: 0.0887 - val_loss: 4.6249 - val_mean_squared_error: 4.6249 - val_rmse: 2.1506 - val_mean_absolute_error: 1.7646 - val_r_square: 0.1493\n",
      "Epoch 126/200\n",
      "3428/3428 [==============================] - 0s 42us/sample - loss: 4.2623 - mean_squared_error: 4.2623 - rmse: 2.0645 - mean_absolute_error: 1.7020 - r_square: 0.0979 - val_loss: 4.6914 - val_mean_squared_error: 4.6914 - val_rmse: 2.1660 - val_mean_absolute_error: 1.7907 - val_r_square: 0.1333\n",
      "Epoch 127/200\n",
      "3428/3428 [==============================] - 0s 40us/sample - loss: 4.2613 - mean_squared_error: 4.2613 - rmse: 2.0643 - mean_absolute_error: 1.7004 - r_square: 0.0962 - val_loss: 4.6544 - val_mean_squared_error: 4.6544 - val_rmse: 2.1574 - val_mean_absolute_error: 1.7797 - val_r_square: 0.1437\n",
      "Epoch 128/200\n",
      "3428/3428 [==============================] - 0s 38us/sample - loss: 4.2551 - mean_squared_error: 4.2551 - rmse: 2.0628 - mean_absolute_error: 1.6971 - r_square: 0.0900 - val_loss: 4.5921 - val_mean_squared_error: 4.5921 - val_rmse: 2.1429 - val_mean_absolute_error: 1.7680 - val_r_square: 0.1537\n",
      "Epoch 129/200\n",
      "3428/3428 [==============================] - 0s 39us/sample - loss: 4.2636 - mean_squared_error: 4.2636 - rmse: 2.0649 - mean_absolute_error: 1.7020 - r_square: 0.1139 - val_loss: 4.6372 - val_mean_squared_error: 4.6372 - val_rmse: 2.1534 - val_mean_absolute_error: 1.7775 - val_r_square: 0.1561\n",
      "Epoch 130/200\n",
      "3428/3428 [==============================] - 0s 40us/sample - loss: 4.2524 - mean_squared_error: 4.2524 - rmse: 2.0621 - mean_absolute_error: 1.6984 - r_square: 0.0919 - val_loss: 4.6085 - val_mean_squared_error: 4.6085 - val_rmse: 2.1467 - val_mean_absolute_error: 1.7653 - val_r_square: 0.1287\n",
      "Epoch 131/200\n"
     ]
    },
    {
     "name": "stdout",
     "output_type": "stream",
     "text": [
      "3428/3428 [==============================] - 0s 39us/sample - loss: 4.2656 - mean_squared_error: 4.2656 - rmse: 2.0653 - mean_absolute_error: 1.7032 - r_square: 0.0900 - val_loss: 4.6111 - val_mean_squared_error: 4.6111 - val_rmse: 2.1473 - val_mean_absolute_error: 1.7645 - val_r_square: 0.1554\n",
      "Epoch 132/200\n",
      "3428/3428 [==============================] - 0s 37us/sample - loss: 4.2602 - mean_squared_error: 4.2602 - rmse: 2.0640 - mean_absolute_error: 1.7028 - r_square: 0.0970 - val_loss: 4.7235 - val_mean_squared_error: 4.7235 - val_rmse: 2.1734 - val_mean_absolute_error: 1.7988 - val_r_square: 0.1233\n",
      "Epoch 133/200\n",
      "3428/3428 [==============================] - 0s 39us/sample - loss: 4.2490 - mean_squared_error: 4.2490 - rmse: 2.0613 - mean_absolute_error: 1.6991 - r_square: 0.1059 - val_loss: 4.6027 - val_mean_squared_error: 4.6027 - val_rmse: 2.1454 - val_mean_absolute_error: 1.7612 - val_r_square: 0.1591\n",
      "Epoch 134/200\n",
      "3428/3428 [==============================] - 0s 37us/sample - loss: 4.2829 - mean_squared_error: 4.2829 - rmse: 2.0695 - mean_absolute_error: 1.7033 - r_square: 0.0935 - val_loss: 4.6386 - val_mean_squared_error: 4.6386 - val_rmse: 2.1537 - val_mean_absolute_error: 1.7749 - val_r_square: 0.1344\n",
      "Epoch 135/200\n",
      "3428/3428 [==============================] - 0s 38us/sample - loss: 4.2632 - mean_squared_error: 4.2632 - rmse: 2.0648 - mean_absolute_error: 1.7030 - r_square: 0.0932 - val_loss: 4.6928 - val_mean_squared_error: 4.6928 - val_rmse: 2.1663 - val_mean_absolute_error: 1.7946 - val_r_square: 0.1132\n",
      "Epoch 136/200\n",
      "3428/3428 [==============================] - 0s 38us/sample - loss: 4.2502 - mean_squared_error: 4.2502 - rmse: 2.0616 - mean_absolute_error: 1.7022 - r_square: 0.0946 - val_loss: 4.6582 - val_mean_squared_error: 4.6582 - val_rmse: 2.1583 - val_mean_absolute_error: 1.7832 - val_r_square: 0.1362\n",
      "Epoch 137/200\n",
      "3428/3428 [==============================] - 0s 38us/sample - loss: 4.2377 - mean_squared_error: 4.2377 - rmse: 2.0586 - mean_absolute_error: 1.7001 - r_square: 0.0993 - val_loss: 4.6917 - val_mean_squared_error: 4.6917 - val_rmse: 2.1660 - val_mean_absolute_error: 1.7720 - val_r_square: 0.1141\n",
      "Epoch 138/200\n",
      "3428/3428 [==============================] - 0s 38us/sample - loss: 4.2329 - mean_squared_error: 4.2329 - rmse: 2.0574 - mean_absolute_error: 1.6969 - r_square: 0.1043 - val_loss: 4.6619 - val_mean_squared_error: 4.6619 - val_rmse: 2.1591 - val_mean_absolute_error: 1.7684 - val_r_square: 0.1527\n",
      "Epoch 139/200\n",
      "3428/3428 [==============================] - 0s 34us/sample - loss: 4.2565 - mean_squared_error: 4.2565 - rmse: 2.0631 - mean_absolute_error: 1.6996 - r_square: 0.0904 - val_loss: 4.6549 - val_mean_squared_error: 4.6549 - val_rmse: 2.1575 - val_mean_absolute_error: 1.7642 - val_r_square: 0.1471\n",
      "Epoch 140/200\n",
      "3428/3428 [==============================] - 0s 34us/sample - loss: 4.2578 - mean_squared_error: 4.2578 - rmse: 2.0635 - mean_absolute_error: 1.6991 - r_square: 0.0891 - val_loss: 4.6723 - val_mean_squared_error: 4.6723 - val_rmse: 2.1615 - val_mean_absolute_error: 1.7870 - val_r_square: 0.1498\n",
      "Epoch 141/200\n",
      "3428/3428 [==============================] - 0s 34us/sample - loss: 4.2443 - mean_squared_error: 4.2443 - rmse: 2.0602 - mean_absolute_error: 1.7000 - r_square: 0.0998 - val_loss: 4.6527 - val_mean_squared_error: 4.6527 - val_rmse: 2.1570 - val_mean_absolute_error: 1.7722 - val_r_square: 0.1323\n",
      "Epoch 142/200\n",
      "3428/3428 [==============================] - 0s 33us/sample - loss: 4.2556 - mean_squared_error: 4.2556 - rmse: 2.0629 - mean_absolute_error: 1.7017 - r_square: 0.0934 - val_loss: 4.6928 - val_mean_squared_error: 4.6928 - val_rmse: 2.1663 - val_mean_absolute_error: 1.7920 - val_r_square: 0.1301\n",
      "Epoch 143/200\n",
      "3428/3428 [==============================] - 0s 34us/sample - loss: 4.2465 - mean_squared_error: 4.2465 - rmse: 2.0607 - mean_absolute_error: 1.6962 - r_square: 0.1139 - val_loss: 4.6399 - val_mean_squared_error: 4.6399 - val_rmse: 2.1541 - val_mean_absolute_error: 1.7715 - val_r_square: 0.1498\n",
      "Epoch 144/200\n",
      "3428/3428 [==============================] - 0s 34us/sample - loss: 4.2505 - mean_squared_error: 4.2505 - rmse: 2.0617 - mean_absolute_error: 1.7009 - r_square: 0.0996 - val_loss: 4.6153 - val_mean_squared_error: 4.6153 - val_rmse: 2.1483 - val_mean_absolute_error: 1.7613 - val_r_square: 0.1427\n",
      "Epoch 145/200\n",
      "3428/3428 [==============================] - 0s 33us/sample - loss: 4.2647 - mean_squared_error: 4.2647 - rmse: 2.0651 - mean_absolute_error: 1.7051 - r_square: 0.0909 - val_loss: 4.8514 - val_mean_squared_error: 4.8514 - val_rmse: 2.2026 - val_mean_absolute_error: 1.8161 - val_r_square: 0.0970\n",
      "Epoch 146/200\n",
      "3428/3428 [==============================] - 0s 34us/sample - loss: 4.2561 - mean_squared_error: 4.2561 - rmse: 2.0630 - mean_absolute_error: 1.7001 - r_square: 0.0944 - val_loss: 4.7299 - val_mean_squared_error: 4.7299 - val_rmse: 2.1748 - val_mean_absolute_error: 1.8031 - val_r_square: 0.1107\n",
      "Epoch 147/200\n",
      "3428/3428 [==============================] - 0s 36us/sample - loss: 4.2656 - mean_squared_error: 4.2656 - rmse: 2.0653 - mean_absolute_error: 1.7014 - r_square: 0.1029 - val_loss: 4.6713 - val_mean_squared_error: 4.6713 - val_rmse: 2.1613 - val_mean_absolute_error: 1.7857 - val_r_square: 0.1277\n",
      "Epoch 148/200\n",
      "3428/3428 [==============================] - 0s 37us/sample - loss: 4.2507 - mean_squared_error: 4.2507 - rmse: 2.0617 - mean_absolute_error: 1.6989 - r_square: 0.1113 - val_loss: 4.6281 - val_mean_squared_error: 4.6281 - val_rmse: 2.1513 - val_mean_absolute_error: 1.7775 - val_r_square: 0.1662\n",
      "Epoch 149/200\n",
      "3428/3428 [==============================] - 0s 38us/sample - loss: 4.2482 - mean_squared_error: 4.2482 - rmse: 2.0611 - mean_absolute_error: 1.7026 - r_square: 0.1026 - val_loss: 4.6439 - val_mean_squared_error: 4.6439 - val_rmse: 2.1550 - val_mean_absolute_error: 1.7803 - val_r_square: 0.1397\n",
      "Epoch 150/200\n",
      "3428/3428 [==============================] - 0s 38us/sample - loss: 4.2371 - mean_squared_error: 4.2371 - rmse: 2.0584 - mean_absolute_error: 1.6985 - r_square: 0.0300 - val_loss: 4.6368 - val_mean_squared_error: 4.6368 - val_rmse: 2.1533 - val_mean_absolute_error: 1.7676 - val_r_square: 0.1362\n",
      "Epoch 151/200\n",
      "3428/3428 [==============================] - 0s 36us/sample - loss: 4.2534 - mean_squared_error: 4.2534 - rmse: 2.0624 - mean_absolute_error: 1.6955 - r_square: 0.0950 - val_loss: 4.6726 - val_mean_squared_error: 4.6726 - val_rmse: 2.1616 - val_mean_absolute_error: 1.7834 - val_r_square: 0.1548\n",
      "Epoch 152/200\n",
      "3428/3428 [==============================] - 0s 34us/sample - loss: 4.2517 - mean_squared_error: 4.2517 - rmse: 2.0620 - mean_absolute_error: 1.7006 - r_square: 0.0959 - val_loss: 4.6285 - val_mean_squared_error: 4.6285 - val_rmse: 2.1514 - val_mean_absolute_error: 1.7675 - val_r_square: 0.1574\n",
      "Epoch 153/200\n",
      "3428/3428 [==============================] - 0s 34us/sample - loss: 4.2442 - mean_squared_error: 4.2442 - rmse: 2.0601 - mean_absolute_error: 1.6935 - r_square: 0.0852 - val_loss: 4.5985 - val_mean_squared_error: 4.5985 - val_rmse: 2.1444 - val_mean_absolute_error: 1.7664 - val_r_square: 0.1569\n",
      "Epoch 154/200\n",
      "3428/3428 [==============================] - 0s 35us/sample - loss: 4.2919 - mean_squared_error: 4.2919 - rmse: 2.0717 - mean_absolute_error: 1.7106 - r_square: 0.0858 - val_loss: 4.6444 - val_mean_squared_error: 4.6444 - val_rmse: 2.1551 - val_mean_absolute_error: 1.7693 - val_r_square: 0.1571\n",
      "Epoch 155/200\n",
      "3428/3428 [==============================] - 0s 34us/sample - loss: 4.2715 - mean_squared_error: 4.2715 - rmse: 2.0668 - mean_absolute_error: 1.7014 - r_square: 0.0880 - val_loss: 4.7602 - val_mean_squared_error: 4.7602 - val_rmse: 2.1818 - val_mean_absolute_error: 1.8060 - val_r_square: 0.1137\n",
      "Epoch 156/200\n",
      "3428/3428 [==============================] - 0s 34us/sample - loss: 4.2456 - mean_squared_error: 4.2456 - rmse: 2.0605 - mean_absolute_error: 1.6983 - r_square: 0.1121 - val_loss: 4.6394 - val_mean_squared_error: 4.6394 - val_rmse: 2.1539 - val_mean_absolute_error: 1.7697 - val_r_square: 0.1316\n",
      "Epoch 157/200\n"
     ]
    },
    {
     "name": "stdout",
     "output_type": "stream",
     "text": [
      "3428/3428 [==============================] - 0s 33us/sample - loss: 4.2461 - mean_squared_error: 4.2461 - rmse: 2.0606 - mean_absolute_error: 1.6995 - r_square: 0.1035 - val_loss: 4.6957 - val_mean_squared_error: 4.6957 - val_rmse: 2.1669 - val_mean_absolute_error: 1.7936 - val_r_square: 0.1343\n",
      "Epoch 158/200\n",
      "3428/3428 [==============================] - 0s 34us/sample - loss: 4.2570 - mean_squared_error: 4.2570 - rmse: 2.0633 - mean_absolute_error: 1.6975 - r_square: 0.0928 - val_loss: 4.6444 - val_mean_squared_error: 4.6444 - val_rmse: 2.1551 - val_mean_absolute_error: 1.7871 - val_r_square: 0.1408\n",
      "Epoch 159/200\n",
      "3428/3428 [==============================] - 0s 35us/sample - loss: 4.2594 - mean_squared_error: 4.2594 - rmse: 2.0638 - mean_absolute_error: 1.7016 - r_square: 0.0955 - val_loss: 4.6141 - val_mean_squared_error: 4.6141 - val_rmse: 2.1481 - val_mean_absolute_error: 1.7698 - val_r_square: 0.1332\n",
      "Epoch 160/200\n",
      "3428/3428 [==============================] - 0s 34us/sample - loss: 4.2447 - mean_squared_error: 4.2447 - rmse: 2.0603 - mean_absolute_error: 1.7022 - r_square: 0.0982 - val_loss: 4.6435 - val_mean_squared_error: 4.6435 - val_rmse: 2.1549 - val_mean_absolute_error: 1.7771 - val_r_square: 0.1319\n",
      "Epoch 161/200\n",
      "3428/3428 [==============================] - 0s 34us/sample - loss: 4.2427 - mean_squared_error: 4.2427 - rmse: 2.0598 - mean_absolute_error: 1.6982 - r_square: 0.1027 - val_loss: 4.6981 - val_mean_squared_error: 4.6981 - val_rmse: 2.1675 - val_mean_absolute_error: 1.7948 - val_r_square: 0.1329\n",
      "Epoch 162/200\n",
      "3428/3428 [==============================] - 0s 34us/sample - loss: 4.2549 - mean_squared_error: 4.2549 - rmse: 2.0627 - mean_absolute_error: 1.7003 - r_square: 0.0952 - val_loss: 4.7130 - val_mean_squared_error: 4.7130 - val_rmse: 2.1710 - val_mean_absolute_error: 1.7837 - val_r_square: 0.1339\n",
      "Epoch 163/200\n",
      "3428/3428 [==============================] - 0s 35us/sample - loss: 4.2528 - mean_squared_error: 4.2528 - rmse: 2.0622 - mean_absolute_error: 1.6968 - r_square: 0.1033 - val_loss: 4.6090 - val_mean_squared_error: 4.6090 - val_rmse: 2.1469 - val_mean_absolute_error: 1.7617 - val_r_square: 0.1465\n",
      "Epoch 164/200\n",
      "3428/3428 [==============================] - 0s 35us/sample - loss: 4.2486 - mean_squared_error: 4.2486 - rmse: 2.0612 - mean_absolute_error: 1.6965 - r_square: 0.0934 - val_loss: 4.6267 - val_mean_squared_error: 4.6267 - val_rmse: 2.1510 - val_mean_absolute_error: 1.7798 - val_r_square: 0.1508\n",
      "Epoch 165/200\n",
      "3428/3428 [==============================] - 0s 36us/sample - loss: 4.2346 - mean_squared_error: 4.2346 - rmse: 2.0578 - mean_absolute_error: 1.6969 - r_square: 0.1038 - val_loss: 4.6424 - val_mean_squared_error: 4.6424 - val_rmse: 2.1546 - val_mean_absolute_error: 1.7878 - val_r_square: 0.1493\n",
      "Epoch 166/200\n",
      "3428/3428 [==============================] - 0s 36us/sample - loss: 4.2617 - mean_squared_error: 4.2617 - rmse: 2.0644 - mean_absolute_error: 1.7002 - r_square: 0.0787 - val_loss: 4.7208 - val_mean_squared_error: 4.7208 - val_rmse: 2.1727 - val_mean_absolute_error: 1.8021 - val_r_square: 0.1307\n",
      "Epoch 167/200\n",
      "3428/3428 [==============================] - 0s 36us/sample - loss: 4.2673 - mean_squared_error: 4.2673 - rmse: 2.0657 - mean_absolute_error: 1.7050 - r_square: 0.0986 - val_loss: 4.6128 - val_mean_squared_error: 4.6128 - val_rmse: 2.1477 - val_mean_absolute_error: 1.7715 - val_r_square: 0.1525\n",
      "Epoch 168/200\n",
      "3428/3428 [==============================] - 0s 37us/sample - loss: 4.2546 - mean_squared_error: 4.2546 - rmse: 2.0627 - mean_absolute_error: 1.6998 - r_square: 0.0916 - val_loss: 4.6018 - val_mean_squared_error: 4.6018 - val_rmse: 2.1452 - val_mean_absolute_error: 1.7741 - val_r_square: 0.1371\n",
      "Epoch 169/200\n",
      "3428/3428 [==============================] - 0s 36us/sample - loss: 4.2631 - mean_squared_error: 4.2631 - rmse: 2.0647 - mean_absolute_error: 1.7010 - r_square: 0.0908 - val_loss: 4.6456 - val_mean_squared_error: 4.6456 - val_rmse: 2.1554 - val_mean_absolute_error: 1.7808 - val_r_square: 0.1406\n",
      "Epoch 170/200\n",
      "3428/3428 [==============================] - 0s 36us/sample - loss: 4.2440 - mean_squared_error: 4.2440 - rmse: 2.0601 - mean_absolute_error: 1.6994 - r_square: 0.1034 - val_loss: 4.6244 - val_mean_squared_error: 4.6244 - val_rmse: 2.1504 - val_mean_absolute_error: 1.7605 - val_r_square: 0.1448\n",
      "Epoch 171/200\n",
      "3428/3428 [==============================] - 0s 36us/sample - loss: 4.2460 - mean_squared_error: 4.2460 - rmse: 2.0606 - mean_absolute_error: 1.7009 - r_square: 0.1049 - val_loss: 4.6549 - val_mean_squared_error: 4.6549 - val_rmse: 2.1575 - val_mean_absolute_error: 1.7774 - val_r_square: 0.1417\n",
      "Epoch 172/200\n",
      "3428/3428 [==============================] - 0s 35us/sample - loss: 4.2560 - mean_squared_error: 4.2560 - rmse: 2.0630 - mean_absolute_error: 1.6999 - r_square: 0.1028 - val_loss: 4.6335 - val_mean_squared_error: 4.6335 - val_rmse: 2.1526 - val_mean_absolute_error: 1.7749 - val_r_square: 0.1222\n",
      "Epoch 173/200\n",
      "3428/3428 [==============================] - 0s 35us/sample - loss: 4.2493 - mean_squared_error: 4.2493 - rmse: 2.0614 - mean_absolute_error: 1.6938 - r_square: 0.0957 - val_loss: 4.6939 - val_mean_squared_error: 4.6939 - val_rmse: 2.1665 - val_mean_absolute_error: 1.7944 - val_r_square: 0.1285\n",
      "Epoch 174/200\n",
      "3428/3428 [==============================] - 0s 36us/sample - loss: 4.2510 - mean_squared_error: 4.2510 - rmse: 2.0618 - mean_absolute_error: 1.7006 - r_square: 0.1085 - val_loss: 4.6508 - val_mean_squared_error: 4.6508 - val_rmse: 2.1566 - val_mean_absolute_error: 1.7756 - val_r_square: 0.1549\n",
      "Epoch 175/200\n",
      "3428/3428 [==============================] - 0s 34us/sample - loss: 4.2380 - mean_squared_error: 4.2380 - rmse: 2.0586 - mean_absolute_error: 1.6986 - r_square: 0.1064 - val_loss: 4.6738 - val_mean_squared_error: 4.6738 - val_rmse: 2.1619 - val_mean_absolute_error: 1.7818 - val_r_square: 0.1347\n",
      "Epoch 176/200\n",
      "3428/3428 [==============================] - 0s 36us/sample - loss: 4.2493 - mean_squared_error: 4.2493 - rmse: 2.0614 - mean_absolute_error: 1.6961 - r_square: 0.1076 - val_loss: 4.7112 - val_mean_squared_error: 4.7112 - val_rmse: 2.1705 - val_mean_absolute_error: 1.7938 - val_r_square: 0.1131\n",
      "Epoch 177/200\n",
      "3428/3428 [==============================] - 0s 35us/sample - loss: 4.2468 - mean_squared_error: 4.2468 - rmse: 2.0608 - mean_absolute_error: 1.6997 - r_square: 0.0857 - val_loss: 4.6184 - val_mean_squared_error: 4.6184 - val_rmse: 2.1490 - val_mean_absolute_error: 1.7724 - val_r_square: 0.1450\n",
      "Epoch 178/200\n",
      "3428/3428 [==============================] - 0s 35us/sample - loss: 4.2548 - mean_squared_error: 4.2548 - rmse: 2.0627 - mean_absolute_error: 1.7037 - r_square: 0.0947 - val_loss: 4.6646 - val_mean_squared_error: 4.6646 - val_rmse: 2.1598 - val_mean_absolute_error: 1.7811 - val_r_square: 0.1466\n",
      "Epoch 00178: early stopping\n"
     ]
    }
   ],
   "source": [
    "import numpy as np\n",
    "import tensorflow as tf\n",
    "from tensorflow import keras\n",
    "from tensorflow.keras.models import Sequential\n",
    "from tensorflow.keras.layers import Dense, Activation\n",
    "import matplotlib.pyplot as plt\n",
    "from tensorflow.keras.callbacks import EarlyStopping\n",
    "%matplotlib inline\n",
    "\n",
    "from tensorflow.keras import backend as K\n",
    "\n",
    "def r_square(y_true, y_pred):\n",
    "    SS_res =  K.sum(K.square( y_true-y_pred )) \n",
    "    SS_tot = K.sum(K.square( y_true - K.mean(y_true) ) ) \n",
    "    return ( 1 - SS_res/(SS_tot + K.epsilon()) )\n",
    "\n",
    "\n",
    "model = tf.keras.Sequential()\n",
    "model.add(Dense(9, input_shape=(9,), activation = tf.math.square))\n",
    "\n",
    "model.add(Dense(1))\n",
    "model.compile(loss='mean_squared_error', metrics=['mean_squared_error',tf.keras.metrics.RootMeanSquaredError(name='rmse'),'mean_absolute_error', r_square], optimizer='adam')\n",
    "earlystopping=EarlyStopping(monitor=\"mean_squared_error\", patience=40, verbose=1, mode='auto')\n",
    "# print(model.summary())\n",
    "\n",
    "\n",
    "# optimizer = tf.keras.optimizers.RMSprop(0.0099)\n",
    "# model.fit(X,Y,epochs=1000, batch_size=200)\n",
    "\n",
    "history = model.fit(X_train, Y_train, validation_split= 0.2, epochs=200, batch_size=30, callbacks=[earlystopping] )\n",
    "\n",
    "\n",
    "\n"
   ]
  },
  {
   "cell_type": "code",
   "execution_count": 29,
   "metadata": {},
   "outputs": [
    {
     "data": {
      "image/png": "[encoded data removed]",
      "text/plain": [
       "<Figure size 432x288 with 1 Axes>"
      ]
     },
     "metadata": {
      "needs_background": "light"
     },
     "output_type": "display_data"
    }
   ],
   "source": [
    "\n",
    "plt.plot(history.history['rmse'])\n",
    "plt.plot(history.history['val_rmse'])\n",
    "plt.title('Root mean square error')\n",
    "plt.ylabel('RMSE')\n",
    "plt.xlabel('epoch')\n",
    "plt.legend(['train', 'val'], loc='upper left')\n",
    "plt.show()\n"
   ]
  },
  {
   "cell_type": "code",
   "execution_count": 30,
   "metadata": {},
   "outputs": [
    {
     "data": {
      "image/png": "[encoded data removed]",
      "text/plain": [
       "<Figure size 432x288 with 1 Axes>"
      ]
     },
     "metadata": {
      "needs_background": "light"
     },
     "output_type": "display_data"
    }
   ],
   "source": [
    "\n",
    "plt.plot(history.history['mean_absolute_error'])\n",
    "plt.plot(history.history['val_mean_absolute_error'])\n",
    "plt.title('mean_absolute_error')\n",
    "plt.ylabel('mean_absolute_error')\n",
    "plt.xlabel('epoch')\n",
    "plt.legend(['train', 'val'], loc='upper left')\n",
    "plt.show()\n"
   ]
  },
  {
   "cell_type": "code",
   "execution_count": 31,
   "metadata": {},
   "outputs": [
    {
     "data": {
      "image/png": "[encoded data removed]",
      "text/plain": [
       "<Figure size 432x288 with 1 Axes>"
      ]
     },
     "metadata": {
      "needs_background": "light"
     },
     "output_type": "display_data"
    }
   ],
   "source": [
    "plt.plot(history.history['r_square'])\n",
    "plt.title('Model $R^2$')\n",
    "plt.ylabel('$R^2$')\n",
    "plt.xlabel('epoch')\n",
    "plt.legend(['val'], loc='upper left')\n",
    "plt.show()"
   ]
  },
  {
   "cell_type": "code",
   "execution_count": 34,
   "metadata": {},
   "outputs": [
    {
     "name": "stdout",
     "output_type": "stream",
     "text": [
      "Evaluate on test data\n",
      "1100/1100 [==============================] - 0s 3us/sample - loss: 4.4852 - mean_squared_error: 4.4852 - rmse: 2.1178 - mean_absolute_error: 1.7457 - r_square: 0.1171\n",
      "test loss, test acc: [4.485217094421387, 4.485217, 2.1178331, 1.7457341, 0.117093265]\n"
     ]
    }
   ],
   "source": [
    "print(\"Evaluate on test data\")\n",
    "results = model.evaluate(X_test, Y_test, batch_size=1100)\n",
    "print(\"test loss, test acc:\", results)\n"
   ]
  },
  {
   "cell_type": "code",
   "execution_count": 55,
   "metadata": {},
   "outputs": [
    {
     "data": {
      "text/plain": [
       "array([0.24423543], dtype=float32)"
      ]
     },
     "execution_count": 55,
     "metadata": {},
     "output_type": "execute_result"
    }
   ],
   "source": [
    "y_predict = model.predict(X_test)\n",
    "mean =  Y_test.mean()\n",
    "a =sum((y_predict - mean)**2)\n",
    "b = sum((Y_test - mean)**2)\n",
    "a/b"
   ]
  },
  {
   "cell_type": "code",
   "execution_count": 17,
   "metadata": {},
   "outputs": [],
   "source": [
    "# i = 999\n",
    "# j = 0\n",
    "# while i < len(df.index):\n",
    "#     j += 1 \n",
    "#     _df_train = df_.truncate(before = i+1, after = i+100)\n",
    "#     i += 100\n",
    "#     _X = _df_train.to_numpy()\n",
    "#     _Y = model.predict(_X)\n",
    "#     X_train = np.concatenate((X_train, _X), axis=0)\n",
    "#     Y_train = np.append(Y_train,_Y)\n",
    "#     model.fit(X_train,Y_train, epochs=200, batch_size=20, callbacks=[earlystopping])\n",
    "#     if j%3 == 0:\n",
    "#         print(\"@@@@@@@@@@@@@@@@@@@@@@@@@@@@@@@@@@@@@@@@@@@@@\\\n",
    "#               @@@@@@@@@@@@@@@@@@@@@@@@@@@@@@@@@@@@@@@@@@@@@\\\n",
    "#               @@@@@@@@@@@@@@@@@@@@@@@@@@@@@@@@@@@@@@@@@@@@@\\\n",
    "#               @@@@@@@@@@@@@@@@@@@@@@@@@@@@@@@@@@@@@@@@@@@@@\\\n",
    "#               @@@@@@@@@@@@@@@@@@@@@@@@@@@@@@@@@@@@@@@@@@@@@\")\n",
    "#         results = model.evaluate(X_test, Y_test, batch_size=20)\n",
    "#         print(results)"
   ]
  },
  {
   "cell_type": "code",
   "execution_count": 8,
   "metadata": {},
   "outputs": [
    {
     "name": "stdout",
     "output_type": "stream",
     "text": [
      "Evaluate on test data\n",
      "200/200 [==============================] - 0s 65us/sample - loss: 4.3275 - mean_squared_error: 4.3275 - rmse: 2.0803 - mean_absolute_error: 1.6605 - r_square: -0.9635\n",
      "test loss, test acc: [4.327455842494965, 4.3274555, 2.0802536, 1.6604981, -0.96348655]\n"
     ]
    }
   ],
   "source": [
    "# print(\"Evaluate on test data\")\n",
    "# results = model.evaluate(X_test, Y_test, batch_size=10)\n",
    "# print(\"test loss, test acc:\", results)\n"
   ]
  },
  {
   "cell_type": "code",
   "execution_count": 112,
   "metadata": {},
   "outputs": [
    {
     "data": {
      "text/plain": [
       "[array([[-2.36087590e-02, -5.20601034e-01,  3.79112303e-01,\n",
       "          6.85166866e-02, -2.57370751e-02, -1.94074169e-01,\n",
       "         -8.70853197e-03,  3.57228220e-01,  3.50797363e-02],\n",
       "        [ 4.46248800e-02,  1.11133903e-01, -5.28463066e-01,\n",
       "         -7.41788000e-02,  7.61075467e-02, -3.07507068e-01,\n",
       "         -2.08253805e-02,  1.19817443e-01, -7.43552744e-02],\n",
       "        [-2.23592725e-02, -2.75830179e-01, -2.02181607e-01,\n",
       "         -3.18101980e-02, -4.65674043e-01, -1.54785335e-01,\n",
       "         -7.97070004e-03, -7.04302788e-01, -3.54508519e-01],\n",
       "        [-2.07305329e-05, -6.59517109e-01, -1.88920185e-01,\n",
       "          1.94061212e-02,  2.11506918e-01, -4.03130263e-01,\n",
       "          6.62487606e-03,  3.16875786e-01,  5.79200447e-01],\n",
       "        [-2.57243309e-02,  3.01611751e-01,  4.58977133e-01,\n",
       "          2.39977330e-01, -1.31074879e-02, -4.59236115e-01,\n",
       "         -1.35173211e-02, -7.41272330e-01,  4.29468714e-02],\n",
       "        [-5.93085289e-02,  3.11634302e-01,  2.74691582e-01,\n",
       "          4.55129683e-01, -3.57747078e-01, -3.33878756e-01,\n",
       "         -9.00138356e-03, -5.25740862e-01,  3.66750538e-01],\n",
       "        [ 1.16910450e-02, -9.27691981e-02,  2.00206220e-01,\n",
       "         -2.68541705e-02,  1.44670844e-01, -2.10818231e-01,\n",
       "         -2.22847168e-03, -6.71090186e-02, -1.27368644e-01],\n",
       "        [ 8.93315766e-03, -3.26891579e-02, -1.48632705e-01,\n",
       "         -1.29274294e-01,  3.26632857e-01, -1.01819344e-01,\n",
       "          1.71716306e-02, -1.72078133e-01, -1.70253590e-01],\n",
       "        [-2.37425696e-02,  2.90112440e-02,  7.23632649e-02,\n",
       "          4.08127874e-01, -1.93478480e-01, -2.93932587e-01,\n",
       "          2.12160610e-02,  1.25051379e-01, -4.96561453e-02]], dtype=float32),\n",
       " array([ 0.02589241,  2.3318555 , -0.19546019, -2.3771975 , -0.9155854 ,\n",
       "         1.9580336 ,  0.00623073,  0.5279099 ,  0.28359258], dtype=float32),\n",
       " array([[-0.00228387],\n",
       "        [ 0.13967429],\n",
       "        [-0.07893369],\n",
       "        [ 0.21867964],\n",
       "        [-0.10431205],\n",
       "        [-0.13585195],\n",
       "        [ 0.00322833],\n",
       "        [ 0.09382743],\n",
       "        [ 0.1062593 ]], dtype=float32),\n",
       " array([4.8385687], dtype=float32)]"
      ]
     },
     "execution_count": 112,
     "metadata": {},
     "output_type": "execute_result"
    }
   ],
   "source": [
    "model.get_weights()"
   ]
  },
  {
   "cell_type": "code",
   "execution_count": 113,
   "metadata": {},
   "outputs": [
    {
     "data": {
      "text/plain": [
       "array([[-2.36087590e-02,  4.46248800e-02, -2.23592725e-02,\n",
       "        -2.07305329e-05, -2.57243309e-02, -5.93085289e-02,\n",
       "         1.16910450e-02,  8.93315766e-03, -2.37425696e-02],\n",
       "       [-5.20601034e-01,  1.11133903e-01, -2.75830179e-01,\n",
       "        -6.59517109e-01,  3.01611751e-01,  3.11634302e-01,\n",
       "        -9.27691981e-02, -3.26891579e-02,  2.90112440e-02],\n",
       "       [ 3.79112303e-01, -5.28463066e-01, -2.02181607e-01,\n",
       "        -1.88920185e-01,  4.58977133e-01,  2.74691582e-01,\n",
       "         2.00206220e-01, -1.48632705e-01,  7.23632649e-02],\n",
       "       [ 6.85166866e-02, -7.41788000e-02, -3.18101980e-02,\n",
       "         1.94061212e-02,  2.39977330e-01,  4.55129683e-01,\n",
       "        -2.68541705e-02, -1.29274294e-01,  4.08127874e-01],\n",
       "       [-2.57370751e-02,  7.61075467e-02, -4.65674043e-01,\n",
       "         2.11506918e-01, -1.31074879e-02, -3.57747078e-01,\n",
       "         1.44670844e-01,  3.26632857e-01, -1.93478480e-01],\n",
       "       [-1.94074169e-01, -3.07507068e-01, -1.54785335e-01,\n",
       "        -4.03130263e-01, -4.59236115e-01, -3.33878756e-01,\n",
       "        -2.10818231e-01, -1.01819344e-01, -2.93932587e-01],\n",
       "       [-8.70853197e-03, -2.08253805e-02, -7.97070004e-03,\n",
       "         6.62487606e-03, -1.35173211e-02, -9.00138356e-03,\n",
       "        -2.22847168e-03,  1.71716306e-02,  2.12160610e-02],\n",
       "       [ 3.57228220e-01,  1.19817443e-01, -7.04302788e-01,\n",
       "         3.16875786e-01, -7.41272330e-01, -5.25740862e-01,\n",
       "        -6.71090186e-02, -1.72078133e-01,  1.25051379e-01],\n",
       "       [ 3.50797363e-02, -7.43552744e-02, -3.54508519e-01,\n",
       "         5.79200447e-01,  4.29468714e-02,  3.66750538e-01,\n",
       "        -1.27368644e-01, -1.70253590e-01, -4.96561453e-02]])"
      ]
     },
     "execution_count": 113,
     "metadata": {},
     "output_type": "execute_result"
    }
   ],
   "source": [
    "a = np.array([[-2.36087590e-02, -5.20601034e-01,  3.79112303e-01,\n",
    "          6.85166866e-02, -2.57370751e-02, -1.94074169e-01,\n",
    "         -8.70853197e-03,  3.57228220e-01,  3.50797363e-02],\n",
    "        [ 4.46248800e-02,  1.11133903e-01, -5.28463066e-01,\n",
    "         -7.41788000e-02,  7.61075467e-02, -3.07507068e-01,\n",
    "         -2.08253805e-02,  1.19817443e-01, -7.43552744e-02],\n",
    "        [-2.23592725e-02, -2.75830179e-01, -2.02181607e-01,\n",
    "         -3.18101980e-02, -4.65674043e-01, -1.54785335e-01,\n",
    "         -7.97070004e-03, -7.04302788e-01, -3.54508519e-01],\n",
    "        [-2.07305329e-05, -6.59517109e-01, -1.88920185e-01,\n",
    "          1.94061212e-02,  2.11506918e-01, -4.03130263e-01,\n",
    "          6.62487606e-03,  3.16875786e-01,  5.79200447e-01],\n",
    "        [-2.57243309e-02,  3.01611751e-01,  4.58977133e-01,\n",
    "          2.39977330e-01, -1.31074879e-02, -4.59236115e-01,\n",
    "         -1.35173211e-02, -7.41272330e-01,  4.29468714e-02],\n",
    "        [-5.93085289e-02,  3.11634302e-01,  2.74691582e-01,\n",
    "          4.55129683e-01, -3.57747078e-01, -3.33878756e-01,\n",
    "         -9.00138356e-03, -5.25740862e-01,  3.66750538e-01],\n",
    "        [ 1.16910450e-02, -9.27691981e-02,  2.00206220e-01,\n",
    "         -2.68541705e-02,  1.44670844e-01, -2.10818231e-01,\n",
    "         -2.22847168e-03, -6.71090186e-02, -1.27368644e-01],\n",
    "        [ 8.93315766e-03, -3.26891579e-02, -1.48632705e-01,\n",
    "         -1.29274294e-01,  3.26632857e-01, -1.01819344e-01,\n",
    "          1.71716306e-02, -1.72078133e-01, -1.70253590e-01],\n",
    "        [-2.37425696e-02,  2.90112440e-02,  7.23632649e-02,\n",
    "          4.08127874e-01, -1.93478480e-01, -2.93932587e-01,\n",
    "          2.12160610e-02,  1.25051379e-01, -4.96561453e-02]])\n",
    "a.T"
   ]
  }
 ],
 "metadata": {
  "kernelspec": {
   "display_name": "Python 3",
   "language": "python",
   "name": "python3"
  },
  "language_info": {
   "codemirror_mode": {
    "name": "ipython",
    "version": 3
   },
   "file_extension": ".py",
   "mimetype": "text/x-python",
   "name": "python",
   "nbconvert_exporter": "python",
   "pygments_lexer": "ipython3",
   "version": "3.6.9"
  }
 },
 "nbformat": 4,
 "nbformat_minor": 2
}
